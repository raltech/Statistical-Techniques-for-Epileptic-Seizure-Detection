{
 "cells": [
  {
   "cell_type": "code",
   "execution_count": 2,
   "metadata": {},
   "outputs": [],
   "source": [
    "import matplotlib.pyplot as plt\n",
    "import numpy as np\n",
    "import pandas as pd\n",
    "import xgboost as xgb\n",
    "from sklearn.ensemble import RandomForestClassifier\n",
    "from sklearn.tree import DecisionTreeClassifier\n",
    "from sklearn.svm import SVC\n",
    "from sklearn.linear_model import LogisticRegression\n",
    "from sklearn.model_selection import train_test_split, KFold, cross_val_score, GridSearchCV\n",
    "from sklearn.metrics import accuracy_score, roc_curve, auc, precision_recall_curve, average_precision_score\n",
    "import torch\n",
    "from torch import nn\n",
    "from torch.utils.data import TensorDataset, DataLoader\n",
    "from sklearn.preprocessing import StandardScaler\n",
    "\n",
    "%matplotlib inline"
   ]
  },
  {
   "cell_type": "code",
   "execution_count": 3,
   "metadata": {},
   "outputs": [],
   "source": [
    "data = pd.read_csv('data.csv')\n",
    "data.drop('Unnamed', axis=1, inplace=True)\n",
    "replace_class = {1:1, 2:0, 3:0, 4:0, 5:0}\n",
    "data['y'] = data['y'].replace(replace_class)\n",
    "X = data.drop('y', axis=1)\n",
    "y = data['y']\n",
    "X = X.values\n",
    "y = y.values\n",
    "scaler = StandardScaler().fit(X)\n",
    "X = scaler.transform(X)"
   ]
  },
  {
   "cell_type": "code",
   "execution_count": 4,
   "metadata": {},
   "outputs": [
    {
     "name": "stdout",
     "output_type": "stream",
     "text": [
      "Fitting 5 folds for each of 3 candidates, totalling 15 fits\n",
      "[CV 1/5] END .........C=0.3;, score=(train=0.970, test=0.965) total time=   8.4s\n",
      "[CV 2/5] END .........C=0.3;, score=(train=0.969, test=0.966) total time=   8.1s\n",
      "[CV 3/5] END .........C=0.3;, score=(train=0.970, test=0.966) total time=   7.2s\n",
      "[CV 4/5] END .........C=0.3;, score=(train=0.970, test=0.966) total time=   6.9s\n",
      "[CV 5/5] END .........C=0.3;, score=(train=0.970, test=0.962) total time=   6.6s\n",
      "[CV 1/5] END .........C=1.0;, score=(train=0.983, test=0.970) total time=   5.9s\n",
      "[CV 2/5] END .........C=1.0;, score=(train=0.982, test=0.973) total time=   5.9s\n",
      "[CV 3/5] END .........C=1.0;, score=(train=0.983, test=0.972) total time=   6.7s\n",
      "[CV 4/5] END .........C=1.0;, score=(train=0.982, test=0.973) total time=   6.0s\n",
      "[CV 5/5] END .........C=1.0;, score=(train=0.982, test=0.970) total time=   6.5s\n",
      "[CV 1/5] END .........C=3.0;, score=(train=0.993, test=0.975) total time=   5.9s\n",
      "[CV 2/5] END .........C=3.0;, score=(train=0.994, test=0.975) total time=   6.0s\n",
      "[CV 3/5] END .........C=3.0;, score=(train=0.992, test=0.979) total time=   6.1s\n",
      "[CV 4/5] END .........C=3.0;, score=(train=0.994, test=0.976) total time=   5.8s\n",
      "[CV 5/5] END .........C=3.0;, score=(train=0.994, test=0.976) total time=   5.5s\n",
      "SVC svc\n",
      "Best parameters:  {'C': 3.0}\n",
      "Best cross-validation score: 97.61%\n"
     ]
    }
   ],
   "source": [
    "# Grid search for hyperparameter tuning\n",
    "\n",
    "from sklearn.model_selection import GridSearchCV\n",
    "import warnings\n",
    "\n",
    "\"\"\"\n",
    "default parameters:\n",
    "xgb: learning_rate=0.1, max_depth=3, n_estimators=100\n",
    "rfc: n_estimators=100, max_depth=None, criterion='gini'\n",
    "dtc: max_depth=None, criterion='gini'\n",
    "lr: penalty='l2', C=1.0, solver='lbfgs'\n",
    "svc: C=1.0, kernel='rbf', gamma='scale', degree=3\n",
    "\"\"\"\n",
    "\n",
    "clf_list = {\n",
    "    # \"xgb\": xgb.XGBClassifier(), \n",
    "    # \"rfc\": RandomForestClassifier(), \n",
    "    # \"dtc\": DecisionTreeClassifier(), \n",
    "    # \"lr\": LogisticRegression(max_iter=1000), \n",
    "    \"svc\": SVC(probability=True)\n",
    "}\n",
    "\n",
    "# Define parameter grid for each classifier\n",
    "param_grid = {\n",
    "    # \"xgb\": {\"learning_rate\": [0.03, 0.1, 0.3], \"n_estimators\": [30, 100, 300]}, \n",
    "    # \"rfc\": {\"n_estimators\": [30, 100, 300], \"criterion\": [\"gini\", \"entropy\", \"log_loss\"]},\n",
    "    # \"dtc\": {\"criterion\": [\"gini\", \"entropy\", \"log_loss\"], \"max_features\": [None, 'sqrt', 'log2']},\n",
    "    # \"lr\": {\"penalty\": [\"l1\", \"l2\", \"elasticnet\", \"None\"], \"C\": [0.3, 1.0, 3.0], \"solver\": [\"newton-cg\", \"lbfgs\", \"liblinear\", \"newton-cholesky\", \"sag\", \"saga\"]},\n",
    "    \"svc\": {\"C\": [0.3, 1.0, 3.0]}\n",
    "}\n",
    "\n",
    "warnings.filterwarnings('ignore')\n",
    "for clf_name, clf in clf_list.items():\n",
    "    grid_clf = GridSearchCV(clf, param_grid[clf_name], cv=5, verbose=4, return_train_score=True)\n",
    "    grid_clf.fit(X, y)\n",
    "    \n",
    "    print(clf.__class__.__name__, clf_name)\n",
    "    print(\"Best parameters: \", grid_clf.best_params_)\n",
    "    print(\"Best cross-validation score: %.2f%%\" % (grid_clf.best_score_ * 100.0))\n",
    "warnings.filterwarnings('default')"
   ]
  },
  {
   "attachments": {},
   "cell_type": "markdown",
   "metadata": {},
   "source": [
    "XGBClassifier xgb  \n",
    "Best parameters:  {'learning_rate': 0.3, 'n_estimators': 300}  \n",
    "Best cross-validation score: 97.39%  \n",
    "\n",
    "RandomForestClassifier rfc  \n",
    "Best parameters:  {'criterion': 'gini', 'n_estimators': 300}  \n",
    "Best cross-validation score: 97.49%  \n",
    "\n",
    "DecisionTreeClassifier dtc  \n",
    "Best parameters:  {'criterion': 'entropy', 'max_features': 'log2'}  \n",
    "Best cross-validation score: 93.87%  \n",
    "\n",
    "LogisticRegression lr  \n",
    "Best parameters:  {'C': 3.0, 'penalty': 'l1', 'solver': 'liblinear'}  \n",
    "Best cross-validation score: 82.00%  \n",
    "\n",
    "SVC svc  \n",
    "Best parameters:  {'C': 3.0}  \n",
    "Best cross-validation score: 97.61%  "
   ]
  }
 ],
 "metadata": {
  "kernelspec": {
   "display_name": "cs238",
   "language": "python",
   "name": "python3"
  },
  "language_info": {
   "codemirror_mode": {
    "name": "ipython",
    "version": 3
   },
   "file_extension": ".py",
   "mimetype": "text/x-python",
   "name": "python",
   "nbconvert_exporter": "python",
   "pygments_lexer": "ipython3",
   "version": "3.9.16"
  },
  "orig_nbformat": 4
 },
 "nbformat": 4,
 "nbformat_minor": 2
}
